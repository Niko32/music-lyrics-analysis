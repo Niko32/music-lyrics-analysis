{
 "cells": [
  {
   "cell_type": "code",
   "execution_count": null,
   "id": "76915973-cf2e-4840-b9c8-b1ee63a9f05a",
   "metadata": {},
   "outputs": [],
   "source": [
    "#Hello World"
   ]
  }
 ],
 "metadata": {
  "kernelspec": {
   "display_name": "Python 3 (ipykernel)",
   "language": "python",
   "name": "python3"
  },
  "language_info": {
   "codemirror_mode": {
    "name": "ipython",
    "version": 3
   },
   "file_extension": ".py",
   "mimetype": "text/x-python",
   "name": "python",
   "nbconvert_exporter": "python",
   "pygments_lexer": "ipython3",
   "version": "3.11.7"
  }
 },
 "nbformat": 4,
 "nbformat_minor": 5
}
