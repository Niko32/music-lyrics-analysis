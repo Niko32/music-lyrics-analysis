{
 "cells": [
  {
   "cell_type": "code",
   "execution_count": 2,
   "metadata": {},
   "outputs": [],
   "source": [
    "import os\n",
    "import lyricsgenius\n",
    "from dotenv import load_dotenv\n",
    "import yaml\n",
    "import tomllib\n",
    "import numpy as np\n",
    "from typing import List\n",
    "import sys\n",
    "\n",
    "root = \"../../..\"\n",
    "\n",
    "sys.path.append(os.path.abspath(f\"{root}/src\"))\n",
    "from utils import get_main_tag, shrink_genius_tag\n",
    "\n",
    "load_dotenv()\n",
    "\n",
    "genius = lyricsgenius.Genius()\n",
    "public_api = lyricsgenius.PublicAPI()\n",
    "\n",
    "with open(f\"{root}/config.toml\", \"rb\") as f:\n",
    "    config = tomllib.load(f)\n",
    "\n",
    "def get_song_tags(song_id: int):\n",
    "    song = public_api.song(song_id)['song']\n",
    "    return song['tags']"
   ]
  },
  {
   "cell_type": "code",
   "execution_count": 4,
   "metadata": {},
   "outputs": [
    {
     "name": "stdout",
     "output_type": "stream",
     "text": [
      "✅ Saved 1th song\n",
      "⚠️ No song with id 567130.\n",
      "✅ Saved 6th song\n",
      "⚠️ No song with id 731479.\n",
      "⚠️ No song with id 401397.\n"
     ]
    }
   ],
   "source": [
    "np.random.seed(42)\n",
    "sample = np.random.permutation(int(1e6))\n",
    "n_songs = 50000\n",
    "\n",
    "for genre in config[\"genres\"]:\n",
    "\n",
    "    song_file = f\"{root}/{config['id_data_dir']}/songs.csv\"\n",
    "    tag_file = f\"{root}/{config['id_data_dir']}/tags.yml\"\n",
    "\n",
    "    start_index = 0\n",
    "    if not os.path.exists(song_file):\n",
    "        with open(song_file, \"w\") as f:\n",
    "            f.write(\"id,title,artists,langauge,genre\")\n",
    "    else:\n",
    "        with open(song_file, \"r\") as f:\n",
    "            start_index = len(f.readlines()) - 1\n",
    "\n",
    "    songs_to_save: List[dict] = []\n",
    "    for i, id in enumerate(sample[start_index:]):\n",
    "\n",
    "        song = None\n",
    "        song_to_save = {}\n",
    "\n",
    "        try:\n",
    "            song = genius.song(id)[\"song\"]\n",
    "        except Exception as e:\n",
    "            print(f\"⚠️ No song with id {id}.\")\n",
    "            continue\n",
    "        \n",
    "        # Get a list of tags from the public API\n",
    "        while not song_to_save.get(\"tags\"):\n",
    "            try:\n",
    "                song_to_save[\"tags\"] = get_song_tags(id)\n",
    "            except Exception as e:\n",
    "                print(f\"❌ Failed to get tag list for song with id {id}\")\n",
    "\n",
    "        song_to_save[\"id\"] = song[\"id\"]\n",
    "        song_to_save[\"title\"] = song[\"title\"]\n",
    "        song_to_save[\"artists\"] = song[\"artist_names\"]\n",
    "        song_to_save[\"language\"] = song[\"language\"]\n",
    "        song_to_save[\"genre\"] = get_main_tag(song_to_save[\"tags\"])\n",
    "        songs_to_save.append(song_to_save)\n",
    "\n",
    "        # Save to file for every fifth song\n",
    "        if i % 5 == 0:\n",
    "\n",
    "            csv_strings = [f\"{song['id']},{song['title']},{song['artists']},{song['language']},{song['genre']}\\n\" for song in songs_to_save]\n",
    "            with open(song_file, \"w\", encoding=\"utf-8\") as f:\n",
    "                f.writelines(csv_strings)\n",
    "\n",
    "            with open(tag_file, \"a\", encoding=\"utf-8\") as f:\n",
    "                yaml.safe_dump(dict([[song[\"id\"], song[\"tags\"]] for song in songs_to_save]))\n",
    "\n",
    "            print(f\"✅ Saved {i + 1}th song\")"
   ]
  }
 ],
 "metadata": {
  "kernelspec": {
   "display_name": "venv",
   "language": "python",
   "name": "python3"
  },
  "language_info": {
   "codemirror_mode": {
    "name": "ipython",
    "version": 3
   },
   "file_extension": ".py",
   "mimetype": "text/x-python",
   "name": "python",
   "nbconvert_exporter": "python",
   "pygments_lexer": "ipython3",
   "version": "3.11.2"
  }
 },
 "nbformat": 4,
 "nbformat_minor": 2
}
