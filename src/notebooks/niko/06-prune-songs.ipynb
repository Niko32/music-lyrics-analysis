{
 "cells": [
  {
   "cell_type": "code",
   "execution_count": 3,
   "metadata": {},
   "outputs": [],
   "source": [
    "import os\n",
    "import lyricsgenius\n",
    "from dotenv import load_dotenv\n",
    "import yaml\n",
    "import tomllib\n",
    "import numpy as np\n",
    "from typing import List\n",
    "import sys\n",
    "import pandas as pd\n",
    "\n",
    "\n",
    "root = \"../../..\"\n",
    "\n",
    "sys.path.append(os.path.abspath(f\"{root}/src\"))\n",
    "from utils import get_main_tag, shrink_genius_tag, song_to_csv\n",
    "\n",
    "load_dotenv()\n",
    "\n",
    "genius = lyricsgenius.Genius()\n",
    "public_api = lyricsgenius.PublicAPI()\n",
    "\n",
    "with open(f\"{root}/config.toml\", \"rb\") as f:\n",
    "    config = tomllib.load(f)\n",
    "\n",
    "def get_song_tags(song_id: int):\n",
    "    song = public_api.song(song_id)['song']\n",
    "    return song['tags']"
   ]
  },
  {
   "cell_type": "code",
   "execution_count": 4,
   "metadata": {},
   "outputs": [
    {
     "name": "stdout",
     "output_type": "stream",
     "text": [
      "genre\n",
      "country    850\n",
      "pop        850\n",
      "r-b        850\n",
      "rap        850\n",
      "rock       850\n",
      "dtype: int64 \n",
      "total songs: 4250\n"
     ]
    }
   ],
   "source": [
    "# Prune song list for 850 song x 5 genres\n",
    "main_tags_file = f\"{root}/{config['pruned_data_dir']}/main_tags_songs.csv\"\n",
    "main_tags = [\"pop\", \"rock\", \"r-b\", \"country\", \"rap\"]\n",
    "song_file = f\"{root}/{config['id_data_dir']}/songs.csv\"\n",
    "\n",
    "n_songs = 850\n",
    "\n",
    "df = pd.read_csv(song_file, sep=';')\n",
    "\n",
    "main_df = df[df[\"genre\"].isin(main_tags)]\n",
    "\n",
    "indexes = np.hstack([np.random.choice(v, n_songs, replace=False) for v in main_df.groupby(\"genre\").groups.values()])\n",
    "main_df: pd.DataFrame = df.iloc[indexes]\n",
    "\n",
    "print(main_df.groupby(\"genre\").size(), f\"\\ntotal songs: {len(main_df)}\")\n",
    "\n",
    "main_df.to_csv(main_tags_file, sep=\";\", index=False)"
   ]
  },
  {
   "cell_type": "code",
   "execution_count": 5,
   "metadata": {},
   "outputs": [
    {
     "name": "stdout",
     "output_type": "stream",
     "text": [
      "genre\n",
      "blues         150\n",
      "country       150\n",
      "electronic    150\n",
      "folk          150\n",
      "jazz          150\n",
      "pop           150\n",
      "r-b           150\n",
      "rap           150\n",
      "rock          150\n",
      "dtype: int64 \n",
      "total songs: 1350\n"
     ]
    }
   ],
   "source": [
    "# Prune song list for 150 song x 10 genres\n",
    "all_tags_file = f\"{root}/{config['pruned_data_dir']}/all_tags_songs.csv\"\n",
    "all_tags = config[\"genres\"].copy()\n",
    "all_tags.remove(\"experimental\")\n",
    "n_songs = 150\n",
    "\n",
    "df = pd.read_csv(song_file, sep=';')\n",
    "\n",
    "full_df = df[df[\"genre\"].isin(all_tags)]\n",
    "\n",
    "indexes = np.hstack([np.random.choice(v, n_songs, replace=False) for v in full_df.groupby(\"genre\").groups.values()])\n",
    "full_df: pd.DataFrame = df.iloc[indexes]\n",
    "\n",
    "print(full_df.groupby(\"genre\").size(), f\"\\ntotal songs: {len(full_df)}\")\n",
    "\n",
    "full_df.to_csv(all_tags_file, sep=\";\", index=False)"
   ]
  },
  {
   "cell_type": "code",
   "execution_count": null,
   "metadata": {},
   "outputs": [],
   "source": [
    "# Download lyrics for the pruned songs\n",
    "lyric_dir = f\"{root}/{config['pruned_data_dir']}/lyrics\"\n",
    "pruned_song_files = [\n",
    "    f\"{root}/{config['pruned_data_dir']}/songs.csv\",\n",
    "    f\"{root}/{config['pruned_data_dir']}/songs.csv\"\n",
    "]\n",
    "\n",
    "# Create an output folder\n",
    "if not os.path.exists(lyric_dir):\n",
    "    os.mkdir(lyric_dir)\n",
    "\n",
    "# Get the song list for one genre\n",
    "song_ids = list(pd.read_csv(song_file, sep=';')[\"id\"])\n",
    "\n",
    "# Check how many lyrics have already been downloaded\n",
    "start_index = len(os.listdir(lyric_dir))\n",
    "\n",
    "# Download the song lyrics\n",
    "for i, song_id in enumerate(song_ids[start_index:]):\n",
    "\n",
    "    lyrics = \"\"\n",
    "    while not lyrics:\n",
    "        try:\n",
    "            lyrics: str = genius.lyrics(song_id)\n",
    "        except Exception as e:\n",
    "            print(f\"❌ Failed to get lyrics for song {song_id}\")\n",
    "\n",
    "    # The downlaoded lyrics have a header in the first line and\n",
    "    # a number + \"Embed\" on the last line\n",
    "    # These need to be removed\n",
    "    lyrics = \"\\n\".join(lyrics.splitlines()[1:])[:-5]\n",
    "\n",
    "    if not len(lyrics) == 0:\n",
    "        # Remove \"Embed\" + number from the end\n",
    "        if lyrics[-1] == 'K':\n",
    "            lyrics = lyrics[:-3]\n",
    "        while lyrics[-1].isdigit():\n",
    "            lyrics = lyrics[:-1]\n",
    "\n",
    "    # Save the lyrics file with the id as the name\n",
    "    with open(f\"{root}/{config['id_data_dir']}/lyrics/{(int(song_id)):07d}.txt\", \"w\", encoding=\"utf-8\") as f:\n",
    "        f.write(lyrics)\n",
    "\n",
    "    print(f\"✅ Saved lyrics for song {song_id} ({start_index + i + 1}/{len(song_ids)})\")"
   ]
  }
 ],
 "metadata": {
  "kernelspec": {
   "display_name": "venv",
   "language": "python",
   "name": "python3"
  },
  "language_info": {
   "codemirror_mode": {
    "name": "ipython",
    "version": 3
   },
   "file_extension": ".py",
   "mimetype": "text/x-python",
   "name": "python",
   "nbconvert_exporter": "python",
   "pygments_lexer": "ipython3",
   "version": "3.11.2"
  }
 },
 "nbformat": 4,
 "nbformat_minor": 2
}
